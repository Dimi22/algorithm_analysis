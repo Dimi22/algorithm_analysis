{
 "cells": [
  {
   "cell_type": "markdown",
   "metadata": {},
   "source": [
    "<h1>Geometrical algorithms</h1>"
   ]
  },
  {
   "cell_type": "markdown",
   "metadata": {},
   "source": [
    "<h1> Basics </h1>\n",
    "\n",
    "<ul>\n",
    "\n",
    "<li>Point: $(x,y)$</li>\n",
    "\n",
    "<li>Line: $ax + b =y$</li>\n",
    "\n",
    "<li>Line segment: Two points</li>\n",
    "\n",
    "<li>Polygon: Sequence of points.</li>\n",
    "</ul>"
   ]
  },
  {
   "cell_type": "markdown",
   "metadata": {},
   "source": [
    "<h2> Points and Line Segments</h2>"
   ]
  },
  {
   "cell_type": "markdown",
   "metadata": {},
   "source": [
    "What is the length of a line segment $S_i$?"
   ]
  },
  {
   "cell_type": "code",
   "execution_count": 9,
   "metadata": {
    "collapsed": true
   },
   "outputs": [],
   "source": [
    "import numpy as np\n",
    "import math\n",
    "%matplotlib inline\n",
    "from matplotlib import pyplot as plt\n",
    "from matplotlib.path import Path\n",
    "from matplotlib.patches import PathPatch"
   ]
  },
  {
   "cell_type": "code",
   "execution_count": 28,
   "metadata": {
    "collapsed": false
   },
   "outputs": [
    {
     "name": "stdout",
     "output_type": "stream",
     "text": [
      "Length(P1,P2) =  5.0\n"
     ]
    }
   ],
   "source": [
    "def length_segment(p1,p2):\n",
    "    return ((p2[0]-p1[0])**2+(p2[1]-p1[1])**2)**.5\n",
    "\n",
    "P1 = [0.,0.]\n",
    "P2 = [3.,4.]\n",
    "print 'Length(P1,P2) = ', length_segment(P1, P2)\n",
    "#np.linalg.norm([P1, P2])"
   ]
  },
  {
   "cell_type": "markdown",
   "metadata": {},
   "source": [
    "What is the midpoint of a line segment $S_i$?"
   ]
  },
  {
   "cell_type": "code",
   "execution_count": 29,
   "metadata": {
    "collapsed": false
   },
   "outputs": [
    {
     "name": "stdout",
     "output_type": "stream",
     "text": [
      "Length(P1,P2) =  [0.5, 2.0]\n"
     ]
    }
   ],
   "source": [
    "def midpoint_segment(p1,p2):\n",
    "    return [(p1[0]+p2[0])/2, (p1[1]+p2[1])/2]\n",
    "\n",
    "P3 = [2.,-1.]\n",
    "P4 = [-1.,5.]\n",
    "print 'Length(P1,P2) = ', midpoint_segment(P3, P4)"
   ]
  },
  {
   "cell_type": "markdown",
   "metadata": {},
   "source": [
    "What is the intersection between two line segments $S_i$ and $S_j$?"
   ]
  },
  {
   "cell_type": "code",
   "execution_count": null,
   "metadata": {
    "collapsed": true
   },
   "outputs": [],
   "source": []
  },
  {
   "cell_type": "markdown",
   "metadata": {},
   "source": [
    "Is a given point $P$ contained in the line segment $S$?"
   ]
  },
  {
   "cell_type": "code",
   "execution_count": null,
   "metadata": {
    "collapsed": true
   },
   "outputs": [],
   "source": []
  },
  {
   "cell_type": "markdown",
   "metadata": {},
   "source": [
    "CCW. Given three points a, b, and c, are the segments $\\bar{ab}$, $\\bar{bc}$ a counterclockwise turn?"
   ]
  },
  {
   "cell_type": "markdown",
   "metadata": {},
   "source": [
    "<h3>Cross product</h3>\n",
    "\n",
    "Consider vectors $p_1$ and $p_2$, cross product can be interpreted as the area of the parallelogram formed by the points $(0,0)$, $p_1$, $p_2$, and $p_1 + p_2$. An equivalent defintion of cross product is a determinant:\n",
    "\n",
    "\\begin{align}\n",
    "p_1 \\times p2 & = &det(\\begin{matrix}x_1 & x_2\\\\ y_1 & y_2\\end{matrix})\\\\\n",
    "  & = &x_1y_2 - x_2y_1\\\\\n",
    "  & = &-p_2\\times p_1\n",
    "\\end{align}\n",
    "\n",
    "<ul>\n",
    "<li>If $p_1\\times p_2 > 0$, then $ p_1$ is clockwise from $p_2$ respect to the origin $(0,0)$</li>\n",
    "<li>If $p_1\\times p_2 < 0$, then $ p_1$ is counterclockwise from $p_2$ respect to the origin $(0,0)$</li>\n",
    "<li>If $p_1\\times p_2 = 0$, then $ p_1$ and $p_2$ are colinear</li>\n",
    "</ul>\n",
    "\n",
    "To determine if a directed segment $\\bar{p_0p_1}$ is closer to a directed segment $\\bar{p_0p2}$ in a clockwise direction we use $p_0$ as the origin. i.e. $p_1-p_0$, $p_2-p_0$, hence the cross product can be computed as\n",
    "\n",
    "$$ (p_1 - p_0) \\times (p_2 - p_0) = (x_1-x_0)(y_1-y0) \\times (x_2-x_0)(y_2-y0)$$\n",
    "\n",
    "To determine whether two consecutive line segments $\\bar{p_0 p_1}$ and $\\bar{p_1 p_2}$ turn counterclockwise at point $p_1$ or not, we simply check whether directed segment $\\bar{p_0 p_2}$ is clockwise or counterclockwise relative to directed segment $\\bar{p_0 p_1}$. To do so, we compute the cross product $\\bar{p_2 p_0} \\times \\bar{p_1 p_0}$. If the sign of this cross product is negative, then $\\bar{p_0p_2}$ is counterclockwise with respect to $\\bar{p_0 p_1}$ and thus we make a left turn at $p_1$. A positive cross product indicates a clockwise orientation and a right turn. A cross product of $0$ means that points $p_0$ , $p_1$ , and $p_2$ are colinear.\n"
   ]
  },
  {
   "cell_type": "code",
   "execution_count": 5,
   "metadata": {
    "collapsed": true
   },
   "outputs": [],
   "source": [
    "def ccw2(p0, p1, p2):\n",
    "    area = (p2[0]-p0[0])*(p1[1]-p0[1]) - (p1[0]-p0[0])*(p2[1]-p0[1])\n",
    "    if area < 0: return -1 #counterclockwise\n",
    "    elif area > 0: return 1 #clockwise\n",
    "    elif area == 0:  return  0 #collinear"
   ]
  },
  {
   "cell_type": "code",
   "execution_count": 6,
   "metadata": {
    "collapsed": false
   },
   "outputs": [
    {
     "name": "stdout",
     "output_type": "stream",
     "text": [
      "-1 1 0\n"
     ]
    }
   ],
   "source": [
    "P1 = [0.,0.]\n",
    "P2 = [3.,4.]\n",
    "P3 = [2.,-1.]\n",
    "P4 = [-1.,5.]\n",
    "print ccw2(P1,P2,P4), ccw2(P1,P2,P3), ccw2([0,0],[1,1],[2,2])"
   ]
  },
  {
   "cell_type": "code",
   "execution_count": 2,
   "metadata": {
    "collapsed": false
   },
   "outputs": [],
   "source": [
    "def ccw(p0, p1, p2):\n",
    "    area = (p1[0]-p0[0])*(p2[1]-p0[1]) - (p1[1]-p0[1])*(p2[0]-p0[0])\n",
    "    if area < 0: return -1 #clockwise\n",
    "    elif area > 0: return 1 #counterclockwise\n",
    "    elif area == 0:  return  0 #collinear"
   ]
  },
  {
   "cell_type": "code",
   "execution_count": 4,
   "metadata": {
    "collapsed": false
   },
   "outputs": [
    {
     "name": "stdout",
     "output_type": "stream",
     "text": [
      "1 -1 0\n"
     ]
    }
   ],
   "source": [
    "P1 = [0.,0.]\n",
    "P2 = [3.,4.]\n",
    "P3 = [2.,-1.]\n",
    "P4 = [-1.,5.]\n",
    "print ccw(P1,P2,P4), ccw(P1,P2,P3), ccw([0,0],[1,1],[2,2])"
   ]
  },
  {
   "cell_type": "code",
   "execution_count": 45,
   "metadata": {
    "collapsed": false
   },
   "outputs": [
    {
     "name": "stdout",
     "output_type": "stream",
     "text": [
      "[0.0, 0.0] [3.0, 4.0]\n",
      "(30,)\n",
      "(40,)\n"
     ]
    }
   ],
   "source": [
    "print P1,P2\n",
    "print np.arange(P1[0],P2[0],.1).shape\n",
    "print np.arange(P1[1],P2[1],.1).shape"
   ]
  },
  {
   "cell_type": "code",
   "execution_count": 50,
   "metadata": {
    "collapsed": false
   },
   "outputs": [
    {
     "data": {
      "text/plain": [
       "(-2.0, 6)"
      ]
     },
     "execution_count": 50,
     "metadata": {},
     "output_type": "execute_result"
    },
    {
     "data": {
      "image/png": "[encoded data removed]",
      "text/plain": [
       "<matplotlib.figure.Figure at 0x7fe4fe73b710>"
      ]
     },
     "metadata": {},
     "output_type": "display_data"
    }
   ],
   "source": [
    "fig, ax = plt.subplots(figsize=(8, 8))\n",
    "plt.plot(P1[0],P1[1],'ro')\n",
    "plt.plot(P2[0],P2[1],'bo')\n",
    "plt.plot(P3[0],P3[1],'mo')\n",
    "plt.plot(P4[0],P4[1],'go')\n",
    "plt.xlim(-2., 6)\n",
    "plt.ylim(-2., 6)"
   ]
  },
  {
   "cell_type": "code",
   "execution_count": 51,
   "metadata": {
    "collapsed": true
   },
   "outputs": [],
   "source": [
    "from sympy.geometry import *"
   ]
  },
  {
   "cell_type": "code",
   "execution_count": 52,
   "metadata": {
    "collapsed": false
   },
   "outputs": [],
   "source": [
    "P1 = Point(0, 0)\n",
    "P2 = Point(3, 4)\n",
    "P3 = Point(2, -1)\n",
    "P4 = Point(-1, 5)\n",
    "S1 = Segment(P1, P2)\n",
    "S2 = Segment(P3, P4)"
   ]
  },
  {
   "cell_type": "code",
   "execution_count": 26,
   "metadata": {
    "collapsed": false
   },
   "outputs": [
    {
     "name": "stdout",
     "output_type": "stream",
     "text": [
      "False\n",
      "5\n",
      "Point(1/2, 2)\n",
      "4/3\n",
      "[Point(9/10, 6/5)]\n",
      "acos(-sqrt(5)/5)\n",
      "False\n"
     ]
    }
   ],
   "source": [
    "print Point.is_collinear(P1, P2, P3)\n",
    "print S1.length\n",
    "print S2.midpoint\n",
    "print S1.slope\n",
    "print S1.intersection(S2)\n",
    "print Segment.angle_between(S1, S2)\n",
    "print S1.contains(P3)"
   ]
  },
  {
   "cell_type": "markdown",
   "metadata": {},
   "source": [
    "<h2>Lines</h2>"
   ]
  },
  {
   "cell_type": "markdown",
   "metadata": {},
   "source": [
    "What is the distance from a point $P$ to the line $L$?"
   ]
  },
  {
   "cell_type": "code",
   "execution_count": null,
   "metadata": {
    "collapsed": true
   },
   "outputs": [],
   "source": []
  },
  {
   "cell_type": "markdown",
   "metadata": {},
   "source": [
    "What is an ortogonal line $L_i$ which intersect $L_j$ at an arbitrary point?"
   ]
  },
  {
   "cell_type": "code",
   "execution_count": null,
   "metadata": {
    "collapsed": true
   },
   "outputs": [],
   "source": []
  },
  {
   "cell_type": "markdown",
   "metadata": {},
   "source": [
    "What is a line $L_i$ parallel to $L_j$ with a distance $d$?"
   ]
  },
  {
   "cell_type": "code",
   "execution_count": null,
   "metadata": {
    "collapsed": true
   },
   "outputs": [],
   "source": []
  },
  {
   "cell_type": "code",
   "execution_count": 27,
   "metadata": {
    "collapsed": false
   },
   "outputs": [
    {
     "name": "stdout",
     "output_type": "stream",
     "text": [
      "Point(4*t + 2, -3*t - 1)\n",
      "3*x + 4*y - 2\n",
      "False\n",
      "3\n",
      "False\n"
     ]
    }
   ],
   "source": [
    "L1 = Line(P1, P2)\n",
    "L2 = L1.perpendicular_line(P3)        # perpendicular line to L1\n",
    "print L2.arbitrary_point()            # parametric equation of L2\n",
    "print L2.equation()                   # algebraic equation of L2\n",
    "print L2.contains(P4)                 # is P4 in L2?\n",
    "print L2.distance(P4)                 # distance from P4 to L2\n",
    "print L1.is_parallel(S2)              # is S2 parallel to L1?\n"
   ]
  },
  {
   "cell_type": "markdown",
   "metadata": {
    "collapsed": false
   },
   "source": [
    "<h2>Polygons</h2>\n",
    "\n",
    "Jordan curve theorem (Veblen, 1905): Any continous simple closed curve cuts the plane in exactly two pieces: the inside and the outside."
   ]
  },
  {
   "cell_type": "markdown",
   "metadata": {},
   "source": [
    "Activities:\n",
    "1. Draw polygons.\n",
    "2. Is a point inside a polygon?"
   ]
  },
  {
   "cell_type": "markdown",
   "metadata": {
    "collapsed": true
   },
   "source": [
    "<h1>Convex Hull</h1>"
   ]
  },
  {
   "cell_type": "code",
   "execution_count": 69,
   "metadata": {
    "collapsed": false
   },
   "outputs": [
    {
     "data": {
      "image/png": "[encoded data removed]",
      "text/plain": [
       "<matplotlib.figure.Figure at 0x7f8bd102c490>"
      ]
     },
     "metadata": {},
     "output_type": "display_data"
    }
   ],
   "source": [
    "import numpy as np\n",
    "\n",
    "import matplotlib.pyplot as plt\n",
    "import matplotlib\n",
    "from matplotlib.patches import Polygon\n",
    "from matplotlib.collections import PatchCollection\n",
    "\n",
    "fig, ax = plt.subplots()\n",
    "patches = []\n",
    "\n",
    "polygon = Polygon([[0.1,0.9],[0.1,0.3],[0.3,0.4],[0.3,0.5]], True)\n",
    "patches.append(polygon)\n",
    "polygon = Polygon([[0.5,0.1],[0.5,0.3],[0.52,0.3],[0.54,0.4],[0.3,0.4]], True)\n",
    "patches.append(polygon)\n",
    "polygon = Polygon([[0.5,0.6],[0.5,0.7],[0.7,0.8],[0.66,0.5],[0.8,0.4],[0.65,0.4],[0.6,0.2]], True)\n",
    "patches.append(polygon)\n",
    "\n",
    "p = PatchCollection(patches, cmap=matplotlib.cm.jet, alpha=0.4)\n",
    "\n",
    "colors = 100*np.random.rand(len(patches))\n",
    "p.set_array(np.array(colors))\n",
    "\n",
    "ax.add_collection(p)\n",
    "\n",
    "plt.show()"
   ]
  },
  {
   "cell_type": "markdown",
   "metadata": {
    "slideshow": {
     "slide_type": "slide"
    }
   },
   "source": [
    "A set of points $P\\subseteq Q$ is convex hull if for any two points $p_0$ and $q_0 \\in Q$ in the set, the line segment $\\overline{p_0p_1}$ is completely in the polygon defined by $P$. We implicitly assume that all points in the set $Q$ are unique and that $Q$ contains at least three points which are not colinear."
   ]
  },
  {
   "cell_type": "markdown",
   "metadata": {
    "slideshow": {
     "slide_type": "slide"
    }
   },
   "source": [
    "<b>The mechanical approach:</b> Using a rubber band around the points"
   ]
  },
  {
   "cell_type": "markdown",
   "metadata": {},
   "source": [
    "<h2>A naïve approach</h2>\n",
    "\n",
    "Hit 1: Edges of convex hull of $Q$ connect pairs of points in $Q$.\n",
    "\n",
    "Hit 2: $p_i,p_j$ is on convex hull if all other points are counterclockwise of $\\overline{p_ip_j}$\n",
    "\n",
    "$\\forall \\: p_i, p_j \\in Q: p_i \\neq p_j$\n",
    "1. Compute ccw2($p_i$, $p_j$, $p_k$) $\\forall \\: p_k \\in Q$, $p_k \\neq p_i$\n",
    "2. $p_i$, $p_j$ is on $P$ if all values in step 1. are negative"
   ]
  },
  {
   "cell_type": "markdown",
   "metadata": {},
   "source": [
    "Analysis:"
   ]
  },
  {
   "cell_type": "code",
   "execution_count": 101,
   "metadata": {
    "collapsed": true
   },
   "outputs": [],
   "source": [
    "# Q: Matrix n x 2 (n points)\n",
    "def convexhull_bf(Q):\n",
    "    P = []\n",
    "    for i in range(len(Q)):\n",
    "        for j in range(len(Q)):\n",
    "            if i == j:\n",
    "                continue\n",
    "            ij_P = True\n",
    "            for k in range(len(Q)):\n",
    "                if i== k or j == k :\n",
    "                    continue\n",
    "                #print Q[i],Q[j],Q[k], ccw2(Q[i],Q[j],Q[k])\n",
    "                if not(ccw2(Q[i],Q[j],Q[k])<0):\n",
    "                    ij_P = False\n",
    "                    break\n",
    "            if ij_P:\n",
    "                P.append(Q[i])\n",
    "                P.append(Q[j])\n",
    "    return P"
   ]
  },
  {
   "cell_type": "code",
   "execution_count": 102,
   "metadata": {
    "collapsed": false
   },
   "outputs": [
    {
     "name": "stdout",
     "output_type": "stream",
     "text": [
      "[[0.5, 0.6], [0.6, 0.2], [0.5, 0.7], [0.5, 0.6], [0.7, 0.8], [0.5, 0.7], [0.8, 0.4], [0.7, 0.8], [0.6, 0.2], [0.8, 0.4]]\n"
     ]
    }
   ],
   "source": [
    "print convexhull_bf([[0.5,0.6],[0.5,0.7],[0.7,0.8],[0.66,0.5],[0.8,0.4],[0.65,0.4],[0.6,0.2]])"
   ]
  },
  {
   "cell_type": "code",
   "execution_count": 83,
   "metadata": {
    "collapsed": false
   },
   "outputs": [
    {
     "name": "stdout",
     "output_type": "stream",
     "text": [
      "-1\n"
     ]
    }
   ],
   "source": [
    "print convexhull_bf([[0.1,0.9],[0.1,0.3],[0.3,0.4],[0.3,0.5]])"
   ]
  },
  {
   "cell_type": "markdown",
   "metadata": {},
   "source": [
    "<h2>Graham Scan</h2>"
   ]
  },
  {
   "cell_type": "code",
   "execution_count": null,
   "metadata": {
    "collapsed": true
   },
   "outputs": [],
   "source": []
  },
  {
   "cell_type": "code",
   "execution_count": null,
   "metadata": {
    "collapsed": true
   },
   "outputs": [],
   "source": []
  },
  {
   "cell_type": "code",
   "execution_count": 103,
   "metadata": {
    "collapsed": true
   },
   "outputs": [],
   "source": [
    "COUNTERCLOCKWISE, CLOCKWISE, COLINEAR = (1, -1, 0)\n",
    "\n",
    "def _keep_left(hull, r):\n",
    "    while len(hull) > 1 and ccw(hull[-2], hull[-1], r) != COUNTERCLOCKWISE:\n",
    "            hull.pop()\n",
    "    if not len(hull) or hull[-1] != r:\n",
    "        hull.append(r)\n",
    "    return hull\n",
    "\n",
    "def convex_hull(points):\n",
    "    \"\"\"Returns points on convex hull of an array of points in CCW order.\"\"\"\n",
    "    points = sorted(points)\n",
    "    # Function reduce takes starting value ([]) and first elements of array \"points\" and passes to function\n",
    "    #_keep_left. Then it takes result of function _take_left and passes it again to the function _take_left\n",
    "    # with the next element of array \"points\" and so on.\n",
    "\n",
    "    l = reduce(_keep_left, points, [])\n",
    "    u = reduce(_keep_left, reversed(points), [])\n",
    "    # Extend l (lower hull) with all elements of u(upper hull) excluding its first and last elements\n",
    "    # it reads from left to right, if first element is true it returns it\n",
    "    return l.extend(u[i] for i in xrange(1, len(u) - 1)) or l\n"
   ]
  },
  {
   "cell_type": "code",
   "execution_count": 104,
   "metadata": {
    "collapsed": false
   },
   "outputs": [
    {
     "data": {
      "image/png": "[encoded data removed]",
      "text/plain": [
       "<matplotlib.figure.Figure at 0x7f8bd0e8b390>"
      ]
     },
     "metadata": {},
     "output_type": "display_data"
    }
   ],
   "source": [
    "n = 100\n",
    "x_coord = np.random.random([n])\n",
    "y_coord = np.random.random([n])\n",
    "# Make pairs\n",
    "points = zip(x_coord,y_coord)\n",
    "\n",
    "ch = (convex_hull(points))\n",
    "# Divide list into separate tuples\n",
    "ch_unzip= zip(*ch)\n",
    "\n",
    "# Add a single element into tuple\n",
    "ch_unzip[0]= ch_unzip[0] + (ch_unzip[0][0],)\n",
    "ch_unzip[1]= ch_unzip[1]+ (ch_unzip[1][0],)\n",
    "\n",
    "# Plot points and convex hull\n",
    "plt.plot(x_coord, y_coord,'ro')\n",
    "plt.plot(ch_unzip[0],ch_unzip[1],'r')\n",
    "plt.axis([-0.5, 1.5, -0.5, 1.5])\n",
    "plt.show()"
   ]
  },
  {
   "cell_type": "code",
   "execution_count": null,
   "metadata": {
    "collapsed": true
   },
   "outputs": [],
   "source": []
  },
  {
   "cell_type": "code",
   "execution_count": null,
   "metadata": {
    "collapsed": true
   },
   "outputs": [],
   "source": []
  },
  {
   "cell_type": "code",
   "execution_count": 105,
   "metadata": {
    "collapsed": true
   },
   "outputs": [],
   "source": [
    "# Jarvis March O(nh) - Tom Switzer <thomas.switzer@gmail.com>\n",
    " \n",
    "TURN_LEFT, TURN_RIGHT, TURN_NONE = (1, -1, 0)\n",
    " \n",
    "def turn(p, q, r):\n",
    "    \"\"\"Returns -1, 0, 1 if p,q,r forms a right, straight, or left turn.\"\"\"\n",
    "    return cmp((q[0] - p[0])*(r[1] - p[1]) - (r[0] - p[0])*(q[1] - p[1]), 0)\n",
    " \n",
    "def _dist(p, q):\n",
    "    \"\"\"Returns the squared Euclidean distance between p and q.\"\"\"\n",
    "    dx, dy = q[0] - p[0], q[1] - p[1]\n",
    "    return dx * dx + dy * dy\n",
    " \n",
    "def _next_hull_pt(points, p):\n",
    "    \"\"\"Returns the next point on the convex hull in CCW from p.\"\"\"\n",
    "    q = p\n",
    "    for r in points:\n",
    "        t = turn(p, q, r)\n",
    "        if t == TURN_RIGHT or t == TURN_NONE and _dist(p, r) > _dist(p, q):\n",
    "            q = r\n",
    "    return q\n",
    " \n",
    "def convex_hull(points):\n",
    "    \"\"\"Returns the points on the convex hull of points in CCW order.\"\"\"\n",
    "    hull = [min(points)]\n",
    "    for p in hull:\n",
    "        q = _next_hull_pt(points, p)\n",
    "        if q != hull[0]:\n",
    "            hull.append(q)\n",
    "    return hull"
   ]
  },
  {
   "cell_type": "code",
   "execution_count": null,
   "metadata": {
    "collapsed": true
   },
   "outputs": [],
   "source": []
  },
  {
   "cell_type": "markdown",
   "metadata": {},
   "source": [
    "Note: Clustering algorithms might be an interesting and advanced topic to review."
   ]
  },
  {
   "cell_type": "markdown",
   "metadata": {},
   "source": [
    "<h1>References</h1>\n",
    "\n",
    "https://www.cs.princeton.edu/~rs/AlgsDS07/16Geometric.pdf\n",
    "\n",
    "http://blancosilva.github.io/post/2014/10/28/Computational-Geometry-in-Python.html\n",
    "\n",
    "http://people.inf.elte.hu/fekete/algoritmusok_msc/terinfo_geom/konyvek/Computational%20Geometry%20-%20Algorithms%20and%20Applications,%203rd%20Ed.pdf"
   ]
  }
 ],
 "metadata": {
  "kernelspec": {
   "display_name": "Python 2",
   "language": "python",
   "name": "python2"
  },
  "language_info": {
   "codemirror_mode": {
    "name": "ipython",
    "version": 2
   },
   "file_extension": ".py",
   "mimetype": "text/x-python",
   "name": "python",
   "nbconvert_exporter": "python",
   "pygments_lexer": "ipython2",
   "version": "2.7.13"
  }
 },
 "nbformat": 4,
 "nbformat_minor": 0
}
