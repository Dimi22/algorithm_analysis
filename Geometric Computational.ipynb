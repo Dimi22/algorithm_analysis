{
 "cells": [
  {
   "cell_type": "markdown",
   "metadata": {},
   "source": [
    "<h1>Geometrical algorithms</h1>"
   ]
  },
  {
   "cell_type": "markdown",
   "metadata": {},
   "source": [
    "<h1> Basics </h1>\n",
    "\n",
    "<ul>\n",
    "\n",
    "<li>Point: $(x,y)$</li>\n",
    "\n",
    "<li>Line: $ax + b =y$</li>\n",
    "\n",
    "<li>Line segment: Two points</li>\n",
    "\n",
    "<li>Polygon: Sequence of points.</li>\n",
    "</ul>"
   ]
  },
  {
   "cell_type": "markdown",
   "metadata": {},
   "source": [
    "<h2> Points and Line Segments</h2>"
   ]
  },
  {
   "cell_type": "markdown",
   "metadata": {},
   "source": [
    "What is the length of a line segment $S_i$?"
   ]
  },
  {
   "cell_type": "code",
   "execution_count": 31,
   "metadata": {
    "collapsed": true
   },
   "outputs": [],
   "source": [
    "import numpy as np\n",
    "import math\n",
    "%matplotlib inline\n",
    "from matplotlib import pyplot as plt\n",
    "from matplotlib.path import Path\n",
    "from matplotlib.patches import PathPatch"
   ]
  },
  {
   "cell_type": "code",
   "execution_count": 28,
   "metadata": {
    "collapsed": false
   },
   "outputs": [
    {
     "name": "stdout",
     "output_type": "stream",
     "text": [
      "Length(P1,P2) =  5.0\n"
     ]
    }
   ],
   "source": [
    "def length_segment(p1,p2):\n",
    "    return ((p2[0]-p1[0])**2+(p2[1]-p1[1])**2)**.5\n",
    "\n",
    "P1 = [0.,0.]\n",
    "P2 = [3.,4.]\n",
    "print 'Length(P1,P2) = ', length_segment(P1, P2)\n",
    "#np.linalg.norm([P1, P2])"
   ]
  },
  {
   "cell_type": "markdown",
   "metadata": {},
   "source": [
    "What is the midpoint of a line segment $S_i$?"
   ]
  },
  {
   "cell_type": "code",
   "execution_count": 29,
   "metadata": {
    "collapsed": false
   },
   "outputs": [
    {
     "name": "stdout",
     "output_type": "stream",
     "text": [
      "Length(P1,P2) =  [0.5, 2.0]\n"
     ]
    }
   ],
   "source": [
    "def midpoint_segment(p1,p2):\n",
    "    return [(p1[0]+p2[0])/2, (p1[1]+p2[1])/2]\n",
    "\n",
    "P3 = [2.,-1.]\n",
    "P4 = [-1.,5.]\n",
    "print 'Length(P1,P2) = ', midpoint_segment(P3, P4)"
   ]
  },
  {
   "cell_type": "markdown",
   "metadata": {},
   "source": [
    "What is the intersection between two line segments $S_i$ and $S_j$?"
   ]
  },
  {
   "cell_type": "code",
   "execution_count": null,
   "metadata": {
    "collapsed": true
   },
   "outputs": [],
   "source": []
  },
  {
   "cell_type": "markdown",
   "metadata": {},
   "source": [
    "Is a given point $P$ contained in the line segment $S$?"
   ]
  },
  {
   "cell_type": "code",
   "execution_count": null,
   "metadata": {
    "collapsed": true
   },
   "outputs": [],
   "source": []
  },
  {
   "cell_type": "markdown",
   "metadata": {},
   "source": [
    "CCW. Given three points a, b, and c, are the segments $\\bar{ab}$, $\\bar{bc}$ a counterclockwise turn?"
   ]
  },
  {
   "cell_type": "markdown",
   "metadata": {},
   "source": [
    "<h3>Cross product</h3>\n",
    "\n",
    "Consider vectors $p_1$ and $p_2$, cross product can be interpreted as the area of the parallelogram formed by the points $(0,0)$, $p_1$, $p_2$, and $p_1 + p_2$. An equivalent defintion of cross product is a determinant:\n",
    "\n",
    "\\begin{align}\n",
    "p_1 \\times p2 & = &det(\\begin{matrix}x_1 & x_2\\\\ y_1 & y_2\\end{matrix})\\\\\n",
    "  & = &x_1y_2 - x_2y_1\\\\\n",
    "  & = &-p_2\\times p_1\n",
    "\\end{align}\n",
    "\n",
    "<ul>\n",
    "<li>If $p_1\\times p_2 > 0$, then $ p_1$ is clockwise from $p_2$ respect to the origin $(0,0)$</li>\n",
    "<li>If $p_1\\times p_2 < 0$, then $ p_1$ is counterclockwise from $p_2$ respect to the origin $(0,0)$</li>\n",
    "<li>If $p_1\\times p_2 = 0$, then $ p_1$ and $p_2$ are colinear</li>\n",
    "</ul>\n",
    "\n",
    "To determine if a directed segment $\\bar{p_0p_1}$ is closer to a directed segment $\\bar{p_0p2}$ in a clockwise direction we use $p_0$ as the origin. i.e. $p_1-p_0$, $p_2-p_0$, hence the cross product can be computed as\n",
    "\n",
    "$$ (p_1 - p_0) \\times (p_2 - p_0) = (x_1-x_0)(y_1-y0) \\times (x_2-x_0)(y_2-y0)$$\n",
    "\n",
    "To determine whether two consecutive line segments $\\bar{p_0 p_1}$ and $\\bar{p_1 p_2}$ turn counterclockwise at point $p_1$ or not, we simply check whether directed segment $\\bar{p_0 p_2}$ is clockwise or counterclockwise relative to directed segment $\\bar{p_0 p_1}$. To do so, we compute the cross product $\\bar{p_2 p_0} \\times \\bar{p_1 p_0}$. If the sign of this cross product is negative, then $\\bar{p_0p_2}$ is counterclockwise with respect to $\\bar{p_0 p_1}$ and thus we make a left turn at $p_1$. A positive cross product indicates a clockwise orientation and a right turn. A cross product of $0$ means that points $p_0$ , $p_1$ , and $p_2$ are colinear.\n"
   ]
  },
  {
   "cell_type": "code",
   "execution_count": 45,
   "metadata": {
    "collapsed": false
   },
   "outputs": [
    {
     "name": "stdout",
     "output_type": "stream",
     "text": [
      "[0.0, 0.0] [3.0, 4.0]\n",
      "(30,)\n",
      "(40,)\n"
     ]
    }
   ],
   "source": [
    "print P1,P2\n",
    "print np.arange(P1[0],P2[0],.1).shape\n",
    "print np.arange(P1[1],P2[1],.1).shape"
   ]
  },
  {
   "cell_type": "code",
   "execution_count": 48,
   "metadata": {
    "collapsed": false
   },
   "outputs": [
    {
     "data": {
      "text/plain": [
       "(-1, 6)"
      ]
     },
     "execution_count": 48,
     "metadata": {},
     "output_type": "execute_result"
    },
    {
     "data": {
      "image/png": "[encoded data removed]",
      "text/plain": [
       "<matplotlib.figure.Figure at 0x7fe4fe942b50>"
      ]
     },
     "metadata": {},
     "output_type": "display_data"
    }
   ],
   "source": [
    "fig, ax = plt.subplots(figsize=(8, 8))\n",
    "plt.plot(P1[0],P1[1],'ro')\n",
    "plt.plot(P2[0],P2[1],'bo')\n",
    "plt.plot(P3[0],P3[1],'bo')\n",
    "plt.plot(P4[0],P4[1],'bo')\n",
    "plt.xlim(-1., 6)\n",
    "plt.ylim(-1., 6)"
   ]
  },
  {
   "cell_type": "code",
   "execution_count": 1,
   "metadata": {
    "collapsed": true
   },
   "outputs": [],
   "source": [
    "from sympy.geometry import *"
   ]
  },
  {
   "cell_type": "code",
   "execution_count": 25,
   "metadata": {
    "collapsed": false
   },
   "outputs": [],
   "source": [
    "P1 = Point(0, 0)\n",
    "P2 = Point(3, 4)\n",
    "P3 = Point(2, -1)\n",
    "P4 = Point(-1, 5)\n",
    "S1 = Segment(P1, P2)\n",
    "S2 = Segment(P3, P4)"
   ]
  },
  {
   "cell_type": "code",
   "execution_count": 26,
   "metadata": {
    "collapsed": false
   },
   "outputs": [
    {
     "name": "stdout",
     "output_type": "stream",
     "text": [
      "False\n",
      "5\n",
      "Point(1/2, 2)\n",
      "4/3\n",
      "[Point(9/10, 6/5)]\n",
      "acos(-sqrt(5)/5)\n",
      "False\n"
     ]
    }
   ],
   "source": [
    "print Point.is_collinear(P1, P2, P3)\n",
    "print S1.length\n",
    "print S2.midpoint\n",
    "print S1.slope\n",
    "print S1.intersection(S2)\n",
    "print Segment.angle_between(S1, S2)\n",
    "print S1.contains(P3)"
   ]
  },
  {
   "cell_type": "markdown",
   "metadata": {},
   "source": [
    "<h2>Lines</h2>"
   ]
  },
  {
   "cell_type": "markdown",
   "metadata": {},
   "source": [
    "What is the distance from a point $P$ to the line $L$?"
   ]
  },
  {
   "cell_type": "markdown",
   "metadata": {},
   "source": [
    "What is an ortogonal line $L_i$ which intersect $L_j$ at an arbitrary point?"
   ]
  },
  {
   "cell_type": "markdown",
   "metadata": {},
   "source": [
    "What is a line $L_i$ parallel to $L_j$ with a distance $d$?"
   ]
  },
  {
   "cell_type": "code",
   "execution_count": 27,
   "metadata": {
    "collapsed": false
   },
   "outputs": [
    {
     "name": "stdout",
     "output_type": "stream",
     "text": [
      "Point(4*t + 2, -3*t - 1)\n",
      "3*x + 4*y - 2\n",
      "False\n",
      "3\n",
      "False\n"
     ]
    }
   ],
   "source": [
    "L1 = Line(P1, P2)\n",
    "L2 = L1.perpendicular_line(P3)        # perpendicular line to L1\n",
    "print L2.arbitrary_point()            # parametric equation of L2\n",
    "print L2.equation()                   # algebraic equation of L2\n",
    "print L2.contains(P4)                 # is P4 in L2?\n",
    "print L2.distance(P4)                 # distance from P4 to L2\n",
    "print L1.is_parallel(S2)              # is S2 parallel to L1?\n"
   ]
  },
  {
   "cell_type": "markdown",
   "metadata": {
    "collapsed": false
   },
   "source": [
    "<h2>Polygons</h2>\n",
    "\n",
    "Jordan curve theorem (Veblen, 1905): Any continous simple closed curve cuts the plane in exactly two pieces: the inside and the outside."
   ]
  },
  {
   "cell_type": "markdown",
   "metadata": {},
   "source": [
    "Activities:\n",
    "1. Draw polygons.\n",
    "2. Is a point inside a polygon?"
   ]
  },
  {
   "cell_type": "code",
   "execution_count": null,
   "metadata": {
    "collapsed": true
   },
   "outputs": [],
   "source": []
  },
  {
   "cell_type": "markdown",
   "metadata": {},
   "source": [
    "Note: Clustering algorithms might be an interesting and advanced topic to review."
   ]
  },
  {
   "cell_type": "markdown",
   "metadata": {},
   "source": [
    "<h1>References</h1>\n",
    "\n",
    "https://www.cs.princeton.edu/~rs/AlgsDS07/16Geometric.pdf\n",
    "\n",
    "http://blancosilva.github.io/post/2014/10/28/Computational-Geometry-in-Python.html\n",
    "\n",
    "http://people.inf.elte.hu/fekete/algoritmusok_msc/terinfo_geom/konyvek/Computational%20Geometry%20-%20Algorithms%20and%20Applications,%203rd%20Ed.pdf"
   ]
  }
 ],
 "metadata": {
  "kernelspec": {
   "display_name": "Python 2",
   "language": "python",
   "name": "python2"
  },
  "language_info": {
   "codemirror_mode": {
    "name": "ipython",
    "version": 2
   },
   "file_extension": ".py",
   "mimetype": "text/x-python",
   "name": "python",
   "nbconvert_exporter": "python",
   "pygments_lexer": "ipython2",
   "version": "2.7.13"
  }
 },
 "nbformat": 4,
 "nbformat_minor": 0
}
